{
 "cells": [
  {
   "cell_type": "code",
   "execution_count": null,
   "metadata": {},
   "outputs": [],
   "source": [
    "from google.colab import drive\n",
    "\n",
    "drive.mount('/content/drive', force_remount=True)\n",
    "\n",
    "# enter the foldername in your Drive where you have saved the unzipped\n",
    "# 'cs231n' folder containing the '.py', 'classifiers' and 'datasets'\n",
    "# folders.\n",
    "# e.g. 'cs231n/assignments/assignment1/cs231n/'\n",
    "FOLDERNAME = None\n",
    "\n",
    "assert FOLDERNAME is not None, \"[!] Enter the foldername.\"\n",
    "\n",
    "%cd /content/drive/My\\ Drive\n",
    "%cp -r $FOLDERNAME ../../\n",
    "%cd ../../\n",
    "%cd cs231n/datasets/\n",
    "!bash get_datasets.sh\n",
    "%cd ../../"
   ]
  },
  {
   "cell_type": "code",
   "execution_count": 1,
   "metadata": {},
   "outputs": [
    {
     "name": "stdout",
     "output_type": "stream",
     "text": [
      "/Users/leourbina/Google Drive/Courses/cs231n/assignment1/cs231n/datasets\n",
      "--2020-05-11 22:37:35--  http://www.cs.toronto.edu/~kriz/cifar-10-python.tar.gz\n",
      "Resolving www.cs.toronto.edu (www.cs.toronto.edu)... 128.100.3.30\n",
      "Connecting to www.cs.toronto.edu (www.cs.toronto.edu)|128.100.3.30|:80... connected.\n",
      "HTTP request sent, awaiting response... 200 OK\n",
      "Length: 170498071 (163M) [application/x-gzip]\n",
      "Saving to: ‘cifar-10-python.tar.gz’\n",
      "\n",
      "cifar-10-python.tar 100%[===================>] 162.60M  23.5MB/s    in 7.5s    \n",
      "\n",
      "2020-05-11 22:37:43 (21.6 MB/s) - ‘cifar-10-python.tar.gz’ saved [170498071/170498071]\n",
      "\n",
      "x cifar-10-batches-py/\n",
      "x cifar-10-batches-py/data_batch_4\n",
      "x cifar-10-batches-py/readme.html\n",
      "x cifar-10-batches-py/test_batch\n",
      "x cifar-10-batches-py/data_batch_3\n",
      "x cifar-10-batches-py/batches.meta\n",
      "x cifar-10-batches-py/data_batch_2\n",
      "x cifar-10-batches-py/data_batch_5\n",
      "x cifar-10-batches-py/data_batch_1\n",
      "/Users/leourbina/Google Drive/Courses/cs231n/assignment1\n"
     ]
    }
   ],
   "source": [
    "# If not on Google Colab\n",
    "\n",
    "%cd cs231n/datasets/\n",
    "!bash get_datasets.sh\n",
    "%cd ../.."
   ]
  },
  {
   "cell_type": "markdown",
   "metadata": {
    "tags": [
     "pdf-title"
    ]
   },
   "source": [
    "# Softmax exercise\n",
    "\n",
    "*Complete and hand in this completed worksheet (including its outputs and any supporting code outside of the worksheet) with your assignment submission. For more details see the [assignments page](http://vision.stanford.edu/teaching/cs231n/assignments.html) on the course website.*\n",
    "\n",
    "This exercise is analogous to the SVM exercise. You will:\n",
    "\n",
    "- implement a fully-vectorized **loss function** for the Softmax classifier\n",
    "- implement the fully-vectorized expression for its **analytic gradient**\n",
    "- **check your implementation** with numerical gradient\n",
    "- use a validation set to **tune the learning rate and regularization** strength\n",
    "- **optimize** the loss function with **SGD**\n",
    "- **visualize** the final learned weights\n"
   ]
  },
  {
   "cell_type": "code",
   "execution_count": 163,
   "metadata": {
    "tags": [
     "pdf-ignore"
    ]
   },
   "outputs": [
    {
     "name": "stdout",
     "output_type": "stream",
     "text": [
      "The autoreload extension is already loaded. To reload it, use:\n",
      "  %reload_ext autoreload\n"
     ]
    }
   ],
   "source": [
    "import random\n",
    "import numpy as np\n",
    "from cs231n.data_utils import load_CIFAR10\n",
    "import matplotlib.pyplot as plt\n",
    "\n",
    "%matplotlib inline\n",
    "plt.rcParams['figure.figsize'] = (10.0, 10.0) # set default size of plots\n",
    "plt.rcParams['image.interpolation'] = 'nearest'\n",
    "plt.rcParams['image.cmap'] = 'gray'\n",
    "\n",
    "# for auto-reloading extenrnal modules\n",
    "# see http://stackoverflow.com/questions/1907993/autoreload-of-modules-in-ipython\n",
    "%load_ext autoreload\n",
    "%autoreload 2"
   ]
  },
  {
   "cell_type": "code",
   "execution_count": 6,
   "metadata": {
    "tags": [
     "pdf-ignore"
    ]
   },
   "outputs": [
    {
     "name": "stdout",
     "output_type": "stream",
     "text": [
      "Train data shape:  (49000, 3073)\n",
      "Train labels shape:  (49000,)\n",
      "Validation data shape:  (1000, 3073)\n",
      "Validation labels shape:  (1000,)\n",
      "Test data shape:  (1000, 3073)\n",
      "Test labels shape:  (1000,)\n",
      "dev data shape:  (500, 3073)\n",
      "dev labels shape:  (500,)\n"
     ]
    }
   ],
   "source": [
    "def get_CIFAR10_data(num_training=49000, num_validation=1000, num_test=1000, num_dev=500):\n",
    "    \"\"\"\n",
    "    Load the CIFAR-10 dataset from disk and perform preprocessing to prepare\n",
    "    it for the linear classifier. These are the same steps as we used for the\n",
    "    SVM, but condensed to a single function.  \n",
    "    \"\"\"\n",
    "    # Load the raw CIFAR-10 data\n",
    "    cifar10_dir = 'cs231n/datasets/cifar-10-batches-py'\n",
    "    \n",
    "    # Cleaning up variables to prevent loading data multiple times (which may cause memory issue)\n",
    "    try:\n",
    "       del X_train, y_train\n",
    "       del X_test, y_test\n",
    "       print('Clear previously loaded data.')\n",
    "    except:\n",
    "       pass\n",
    "\n",
    "    X_train, y_train, X_test, y_test = load_CIFAR10(cifar10_dir)\n",
    "    \n",
    "    # subsample the data\n",
    "    mask = list(range(num_training, num_training + num_validation))\n",
    "    X_val = X_train[mask]\n",
    "    y_val = y_train[mask]\n",
    "    mask = list(range(num_training))\n",
    "    X_train = X_train[mask]\n",
    "    y_train = y_train[mask]\n",
    "    mask = list(range(num_test))\n",
    "    X_test = X_test[mask]\n",
    "    y_test = y_test[mask]\n",
    "    mask = np.random.choice(num_training, num_dev, replace=False)\n",
    "    X_dev = X_train[mask]\n",
    "    y_dev = y_train[mask]\n",
    "    \n",
    "    # Preprocessing: reshape the image data into rows\n",
    "    X_train = np.reshape(X_train, (X_train.shape[0], -1))\n",
    "    X_val = np.reshape(X_val, (X_val.shape[0], -1))\n",
    "    X_test = np.reshape(X_test, (X_test.shape[0], -1))\n",
    "    X_dev = np.reshape(X_dev, (X_dev.shape[0], -1))\n",
    "    \n",
    "    # Normalize the data: subtract the mean image\n",
    "    mean_image = np.mean(X_train, axis = 0)\n",
    "    X_train -= mean_image\n",
    "    X_val -= mean_image\n",
    "    X_test -= mean_image\n",
    "    X_dev -= mean_image\n",
    "    \n",
    "    # add bias dimension and transform into columns\n",
    "    X_train = np.hstack([X_train, np.ones((X_train.shape[0], 1))])\n",
    "    X_val = np.hstack([X_val, np.ones((X_val.shape[0], 1))])\n",
    "    X_test = np.hstack([X_test, np.ones((X_test.shape[0], 1))])\n",
    "    X_dev = np.hstack([X_dev, np.ones((X_dev.shape[0], 1))])\n",
    "    \n",
    "    return X_train, y_train, X_val, y_val, X_test, y_test, X_dev, y_dev\n",
    "\n",
    "\n",
    "# Invoke the above function to get our data.\n",
    "X_train, y_train, X_val, y_val, X_test, y_test, X_dev, y_dev = get_CIFAR10_data()\n",
    "print('Train data shape: ', X_train.shape)\n",
    "print('Train labels shape: ', y_train.shape)\n",
    "print('Validation data shape: ', X_val.shape)\n",
    "print('Validation labels shape: ', y_val.shape)\n",
    "print('Test data shape: ', X_test.shape)\n",
    "print('Test labels shape: ', y_test.shape)\n",
    "print('dev data shape: ', X_dev.shape)\n",
    "print('dev labels shape: ', y_dev.shape)"
   ]
  },
  {
   "cell_type": "markdown",
   "metadata": {},
   "source": [
    "## Softmax Classifier\n",
    "\n",
    "Your code for this section will all be written inside `cs231n/classifiers/softmax.py`.\n",
    "\n",
    "Softmax loss is\n",
    "\n",
    "$$ L_i = - \\log\\left(\\frac{e^{f_{y_i}}}{\\sum_j e^{f_j}}\\right) $$\n",
    "\n",
    "$$ L = - \\frac{1}{N}\\sum_i^N \\log\\left(\\frac{e^{f_{y_i}}}{\\sum_j e^{f_j}}\\right) $$"
   ]
  },
  {
   "cell_type": "markdown",
   "metadata": {},
   "source": [
    "Partial derivatives are given by: \n",
    "\n",
    "$$\\frac{ \\partial L_i }{\\partial w_j } \n",
    "= \\frac{ \\partial L_i }{ \\partial f_j } \\frac{\\partial f_j}{ \\partial w_j } $$\n",
    "\n",
    "$$ \\frac{ \\partial L_i }{ \\partial f_j } \n",
    "= \\left\\{\n",
    "    \\begin{array}\\\\\n",
    "        \\frac{e^{f_{y_i}}}{\\sum_k e^{f_k}} - 1 & \\mbox{if } \\ j = y_i \\\\\n",
    "        \\frac{e^{f_j}}{\\sum_k e^{f_k}} & \\mbox{if } \\ j \\neq y_i \n",
    "    \\end{array}\n",
    "\\right.\n",
    "$$"
   ]
  },
  {
   "cell_type": "markdown",
   "metadata": {},
   "source": [
    "$$\n",
    "f_i = x^T w_i\n",
    "$$\n",
    "\n",
    "$$ \n",
    "\\frac{\\partial f_i}{ \\partial w_j } \n",
    "= \\left\\{\n",
    "    \\begin{array}\\\\\n",
    "        x^T & \\mbox{if } \\ j = i \\\\\n",
    "        0 & \\mbox{if } \\ j \\neq i\n",
    "    \\end{array}\n",
    "\\right.\n",
    "$$"
   ]
  },
  {
   "cell_type": "markdown",
   "metadata": {},
   "source": [
    "# Example 1 of backprop\n",
    "\n",
    "$$f(x, y, z) = (x + y)z $$\n"
   ]
  },
  {
   "cell_type": "code",
   "execution_count": 7,
   "metadata": {},
   "outputs": [
    {
     "data": {
      "text/plain": [
       "-12"
      ]
     },
     "execution_count": 7,
     "metadata": {},
     "output_type": "execute_result"
    }
   ],
   "source": [
    "x = -2; y = 5; z = -4\n",
    "\n",
    "q = x + y\n",
    "f = q*z\n",
    "f"
   ]
  },
  {
   "cell_type": "code",
   "execution_count": 8,
   "metadata": {},
   "outputs": [
    {
     "data": {
      "text/plain": [
       "[-4.0, -4.0, 3]"
      ]
     },
     "execution_count": 8,
     "metadata": {},
     "output_type": "execute_result"
    }
   ],
   "source": [
    "# set some inputs\n",
    "x = -2; y = 5; z = -4\n",
    "\n",
    "# perform the forward pass\n",
    "q = x + y # q becomes 3\n",
    "f = q * z # f becomes -12\n",
    "\n",
    "# perform the backward pass (backpropagation) in reverse order:\n",
    "# first backprop through f = q * z\n",
    "dfdz = q # df/dz = q, so gradient on z becomes 3\n",
    "dfdq = z # df/dq = z, so gradient on q becomes -4\n",
    "# now backprop through q = x + y\n",
    "dfdx = 1.0 * dfdq # dq/dx = 1. And the multiplication here is the chain rule!\n",
    "dfdy = 1.0 * dfdq # dq/dy = 1\n",
    "\n",
    "[dfdx, dfdy, dfdz]"
   ]
  },
  {
   "cell_type": "code",
   "execution_count": 9,
   "metadata": {},
   "outputs": [
    {
     "data": {
      "text/plain": [
       "[-4.0, -4.0, 3]"
      ]
     },
     "execution_count": 9,
     "metadata": {},
     "output_type": "execute_result"
    }
   ],
   "source": [
    "dfdz = q \n",
    "dfdq = z \n",
    "dqdx = 1.0\n",
    "dqdy = 1.0\n",
    "\n",
    "dfdx = dfdq * dqdx\n",
    "dfdy = dfdq * dqdy\n",
    "\n",
    "[dfdx, dfdy, dfdz]"
   ]
  },
  {
   "cell_type": "code",
   "execution_count": null,
   "metadata": {},
   "outputs": [],
   "source": []
  },
  {
   "cell_type": "markdown",
   "metadata": {},
   "source": [
    "## Sigmoid example\n",
    "\n",
    "$$ f(w,x) = \\frac{1}{1 + e^{-(w_0x_0 + w_1x_1 + w_2)}} $$"
   ]
  },
  {
   "cell_type": "code",
   "execution_count": 59,
   "metadata": {},
   "outputs": [],
   "source": [
    "w0 = 2; x0 = -1; w1 = -3; x1 = -2; w2 = -3;\n",
    "\n",
    "w = np.array([[2, -3, -3], [1, 2, 3], [5, 6, 7]], dtype='float64')\n",
    "x = np.array([-1, -2, 1])\n",
    "\n",
    "def sigmoid(x):\n",
    "  return 1.0 / (1 + np.exp(-x))\n",
    "\n",
    "\n",
    "def f(x, w):\n",
    "  dot = w.dot(x)\n",
    "  f = sigmoid(dot)\n",
    "  \n",
    "  ddot = f * (1-f)\n",
    "  dw = ddot[:, np.newaxis] * x \n",
    "\n",
    "  return f, dw"
   ]
  },
  {
   "cell_type": "code",
   "execution_count": 61,
   "metadata": {},
   "outputs": [],
   "source": [
    "def eval_numerical_gradient(f, x, h=0.01):\n",
    "  it = np.nditer(x, flags=['multi_index'])\n",
    "  grad = np.zeros(x.shape)\n",
    "\n",
    "  while not it.finished:\n",
    "    ix = it.multi_index\n",
    "    oldval = x[ix]\n",
    "    x[ix] = oldval + h\n",
    "    fxph = f(x)\n",
    "    x[ix] = oldval - h\n",
    "    fxmh = f(x)\n",
    "    x[ix] = oldval\n",
    "    grad[ix] = np.sum(fxph - fxmh)/(2.0 * h)\n",
    "    it.iternext()\n",
    "    \n",
    "  return grad"
   ]
  },
  {
   "cell_type": "code",
   "execution_count": 65,
   "metadata": {},
   "outputs": [
    {
     "data": {
      "text/plain": [
       "array([[-1.96611616e-01, -3.93223232e-01,  1.96611616e-01],\n",
       "       [-1.04993583e-01, -2.09987097e-01,  1.04993583e-01],\n",
       "       [-4.53966292e-05, -9.07915981e-05,  4.53958160e-05]])"
      ]
     },
     "execution_count": 65,
     "metadata": {},
     "output_type": "execute_result"
    }
   ],
   "source": [
    "eval_numerical_gradient(lambda ww: f(x, ww)[0], w, h=1e-10)"
   ]
  },
  {
   "cell_type": "code",
   "execution_count": 64,
   "metadata": {},
   "outputs": [
    {
     "data": {
      "text/plain": [
       "array([[-1.96611933e-01, -3.93223866e-01,  1.96611933e-01],\n",
       "       [-1.04993585e-01, -2.09987171e-01,  1.04993585e-01],\n",
       "       [-4.53958077e-05, -9.07916155e-05,  4.53958077e-05]])"
      ]
     },
     "execution_count": 64,
     "metadata": {},
     "output_type": "execute_result"
    }
   ],
   "source": [
    "f(x, w)[1]"
   ]
  },
  {
   "cell_type": "code",
   "execution_count": 96,
   "metadata": {},
   "outputs": [
    {
     "data": {
      "text/plain": [
       "False"
      ]
     },
     "execution_count": 96,
     "metadata": {},
     "output_type": "execute_result"
    }
   ],
   "source": [
    "it.finished"
   ]
  },
  {
   "cell_type": "code",
   "execution_count": 68,
   "metadata": {},
   "outputs": [
    {
     "data": {
      "text/plain": [
       "array([-0.19661193, -0.39322387,  0.19661193])"
      ]
     },
     "execution_count": 68,
     "metadata": {},
     "output_type": "execute_result"
    }
   ],
   "source": [
    "w0 = 2; x0 = -1; w1 = -3; x1 = -2; w2 = -3;\n",
    "\n",
    "w = np.array([[2, -3, -3]])\n",
    "x = np.array([-1, -2, 1])\n",
    "\n",
    "def sigmoid(x):\n",
    "  return 1.0 / (1 + np.exp(-x))\n",
    "\n",
    "dot = w.dot(x)\n",
    "f = sigmoid(dot)\n",
    "f\n",
    "\n",
    "ddot = f * (1-f)\n",
    "dw = ddot * x \n",
    "dx = ddot * w\n",
    "\n",
    "dw"
   ]
  },
  {
   "cell_type": "code",
   "execution_count": 39,
   "metadata": {},
   "outputs": [
    {
     "data": {
      "text/plain": [
       "([-0.19661193324148185, -0.3932238664829637, 0.19661193324148185],\n",
       " [0.3932238664829637, -0.5898357997244456])"
      ]
     },
     "execution_count": 39,
     "metadata": {},
     "output_type": "execute_result"
    }
   ],
   "source": [
    "import math\n",
    "w = [2,-3,-3] # assume some random weights and data\n",
    "x = [-1, -2]\n",
    "\n",
    "# forward pass\n",
    "dot = w[0]*x[0] + w[1]*x[1] + w[2]\n",
    "f = 1.0 / (1 + math.exp(-dot)) # sigmoid function\n",
    "\n",
    "# backward pass through the neuron (backpropagation)\n",
    "ddot = (1 - f) * f # gradient on dot variable, using the sigmoid gradient derivation\n",
    "dx = [w[0] * ddot, w[1] * ddot] # backprop into x\n",
    "dw = [x[0] * ddot, x[1] * ddot, 1.0 * ddot] # backprop into w\n",
    "# we're done! we have the gradients on the inputs to the circuit\n",
    "\n",
    "dw, dx"
   ]
  },
  {
   "cell_type": "markdown",
   "metadata": {},
   "source": [
    "# Softmax Example\n",
    "\n"
   ]
  },
  {
   "cell_type": "code",
   "execution_count": 74,
   "metadata": {},
   "outputs": [
    {
     "name": "stdout",
     "output_type": "stream",
     "text": [
      "loss: 2.349928\n",
      "sanity check: 2.302585\n"
     ]
    }
   ],
   "source": [
    "# First implement the naive softmax loss function with nested loops.\n",
    "# Open the file cs231n/classifiers/softmax.py and implement the\n",
    "# softmax_loss_naive function.\n",
    "\n",
    "from cs231n.classifiers.softmax import softmax_loss_naive\n",
    "import time\n",
    "\n",
    "# Generate a random softmax weight matrix and use it to compute the loss.\n",
    "W = np.random.randn(3073, 10) * 0.0001\n",
    "loss, _ = softmax_loss_naive(W, X_dev, y_dev, 0.0)\n",
    "\n",
    "# As a rough sanity check, our loss should be something close to -log(0.1).\n",
    "print('loss: %f' % loss)\n",
    "print('sanity check: %f' % (-np.log(0.1)))"
   ]
  },
  {
   "cell_type": "markdown",
   "metadata": {
    "tags": [
     "pdf-inline"
    ]
   },
   "source": [
    "**Inline Question 1**\n",
    "\n",
    "Why do we expect our loss to be close to -log(0.1)? Explain briefly.**\n",
    "\n",
    "$\\color{blue}{\\textit Your Answer:}$ *Fill this in* "
   ]
  },
  {
   "cell_type": "code",
   "execution_count": 128,
   "metadata": {},
   "outputs": [
    {
     "name": "stdout",
     "output_type": "stream",
     "text": [
      "numerical: 0.987442 analytic: 0.987442, relative error: 1.751172e-08\n",
      "numerical: 1.820126 analytic: 1.820125, relative error: 5.088550e-08\n",
      "numerical: 0.056345 analytic: 0.056345, relative error: 1.221403e-06\n",
      "numerical: -0.255119 analytic: -0.255119, relative error: 1.101781e-08\n",
      "numerical: 1.377432 analytic: 1.377432, relative error: 1.017256e-08\n",
      "numerical: -0.650700 analytic: -0.650700, relative error: 6.323613e-08\n",
      "numerical: -0.874497 analytic: -0.874497, relative error: 1.654636e-08\n",
      "numerical: 0.614396 analytic: 0.614396, relative error: 2.422419e-08\n",
      "numerical: 0.169760 analytic: 0.169760, relative error: 4.151505e-08\n",
      "numerical: -0.749271 analytic: -0.749271, relative error: 4.280566e-08\n",
      "numerical: 5.279272 analytic: 5.278002, relative error: 1.202564e-04\n",
      "numerical: 1.574041 analytic: 1.576868, relative error: 8.971450e-04\n",
      "numerical: -3.330822 analytic: -3.327029, relative error: 5.696935e-04\n",
      "numerical: -2.032972 analytic: -2.029170, relative error: 9.359378e-04\n",
      "numerical: 0.733629 analytic: 0.730373, relative error: 2.223992e-03\n",
      "numerical: 2.367853 analytic: 2.371238, relative error: 7.143327e-04\n",
      "numerical: 2.463486 analytic: 2.466839, relative error: 6.799291e-04\n",
      "numerical: -0.900613 analytic: -0.899219, relative error: 7.742743e-04\n",
      "numerical: -1.604462 analytic: -1.595830, relative error: 2.697327e-03\n",
      "numerical: 1.351919 analytic: 1.342270, relative error: 3.581347e-03\n"
     ]
    }
   ],
   "source": [
    "# Complete the implementation of softmax_loss_naive and implement a (naive)\n",
    "# version of the gradient that uses nested loops.\n",
    "loss, grad = softmax_loss_naive(W, X_dev, y_dev, 0.0)\n",
    "\n",
    "# As we did for the SVM, use numeric gradient checking as a debugging tool.\n",
    "# The numeric gradient should be close to the analytic gradient.\n",
    "from cs231n.gradient_check import grad_check_sparse\n",
    "f = lambda w: softmax_loss_naive(w, X_dev, y_dev, 0.0)[0]\n",
    "grad_numerical = grad_check_sparse(f, W, grad, 10)\n",
    "\n",
    "# similar to SVM case, do another gradient check with regularization\n",
    "loss, grad = softmax_loss_naive(W, X_dev, y_dev, 5e1)\n",
    "f = lambda w: softmax_loss_naive(w, X_dev, y_dev, 5e1)[0]\n",
    "grad_numerical = grad_check_sparse(f, W, grad, 10)"
   ]
  },
  {
   "cell_type": "code",
   "execution_count": 138,
   "metadata": {},
   "outputs": [
    {
     "name": "stdout",
     "output_type": "stream",
     "text": [
      "naive loss: 2.349928e+00 computed in 0.081365s\n",
      "(500, 3073) (500, 10)\n",
      "vectorized loss: 2.349928e+00 computed in 0.003005s\n",
      "Loss difference: 0.000000\n",
      "Gradient difference: 0.000000\n"
     ]
    }
   ],
   "source": [
    "# Now that we have a naive implementation of the softmax loss function and its gradient,\n",
    "# implement a vectorized version in softmax_loss_vectorized.\n",
    "# The two versions should compute the same results, but the vectorized version should be\n",
    "# much faster.\n",
    "tic = time.time()\n",
    "loss_naive, grad_naive = softmax_loss_naive(W, X_dev, y_dev, 0.000005)\n",
    "toc = time.time()\n",
    "print('naive loss: %e computed in %fs' % (loss_naive, toc - tic))\n",
    "\n",
    "from cs231n.classifiers.softmax import softmax_loss_vectorized\n",
    "tic = time.time()\n",
    "loss_vectorized, grad_vectorized = softmax_loss_vectorized(W, X_dev, y_dev, 0.000005)\n",
    "toc = time.time()\n",
    "print('vectorized loss: %e computed in %fs' % (loss_vectorized, toc - tic))\n",
    "\n",
    "# As we did for the SVM, we use the Frobenius norm to compare the two versions\n",
    "# of the gradient.\n",
    "grad_difference = np.linalg.norm(grad_naive - grad_vectorized, ord='fro')\n",
    "print('Loss difference: %f' % np.abs(loss_naive - loss_vectorized))\n",
    "print('Gradient difference: %f' % grad_difference)"
   ]
  },
  {
   "cell_type": "code",
   "execution_count": 142,
   "metadata": {
    "id": "tuning",
    "tags": [
     "code"
    ]
   },
   "outputs": [
    {
     "name": "stdout",
     "output_type": "stream",
     "text": [
      "1/20 [lr: 1.217652137457801e-07 reg: 7271.461 train: 0.385 val: 0.397]\n",
      "2/20 [lr: 1.2257995453964355e-07 reg: 6214.991 train: 0.384 val: 0.398]\n",
      "3/20 [lr: 1.5719597411299018e-07 reg: 10683.145 train: 0.373 val: 0.390]\n",
      "4/20 [lr: 1.6777366928240406e-07 reg: 7824.280 train: 0.380 val: 0.401]\n",
      "5/20 [lr: 1.363101800602941e-07 reg: 6229.479 train: 0.387 val: 0.393]\n",
      "6/20 [lr: 1.089994350755147e-07 reg: 6939.485 train: 0.382 val: 0.393]\n",
      "7/20 [lr: 1.50854313166975e-07 reg: 10747.991 train: 0.371 val: 0.385]\n",
      "8/20 [lr: 1.6317440189522889e-07 reg: 10307.420 train: 0.371 val: 0.386]\n",
      "9/20 [lr: 1.4638822039692727e-07 reg: 9447.055 train: 0.378 val: 0.386]\n",
      "10/20 [lr: 1.352251902447436e-07 reg: 6741.420 train: 0.384 val: 0.394]\n",
      "11/20 [lr: 1.9039702367278584e-07 reg: 11178.880 train: 0.369 val: 0.383]\n",
      "12/20 [lr: 1.333636245562519e-07 reg: 7129.908 train: 0.384 val: 0.399]\n",
      "13/20 [lr: 1.8417589445552871e-07 reg: 6135.465 train: 0.385 val: 0.401]\n",
      "14/20 [lr: 1.304739251933327e-07 reg: 7625.791 train: 0.382 val: 0.390]\n",
      "15/20 [lr: 1.5156310366586776e-07 reg: 11292.605 train: 0.372 val: 0.381]\n",
      "16/20 [lr: 1.0977527347432602e-07 reg: 9168.719 train: 0.378 val: 0.390]\n",
      "17/20 [lr: 1.025489856545164e-07 reg: 7132.663 train: 0.383 val: 0.402]\n",
      "18/20 [lr: 1.0888503889584268e-07 reg: 10826.030 train: 0.372 val: 0.383]\n",
      "19/20 [lr: 1.189528852571249e-07 reg: 8710.894 train: 0.377 val: 0.398]\n",
      "20/20 [lr: 1.4189863895933988e-07 reg: 10326.056 train: 0.371 val: 0.386]\n",
      "best validation accuracy achieved during cross-validation: 0.402000\n"
     ]
    }
   ],
   "source": [
    "# Use the validation set to tune hyperparameters (regularization strength and\n",
    "# learning rate). You should experiment with different ranges for the learning\n",
    "# rates and regularization strengths; if you are careful you should be able to\n",
    "# get a classification accuracy of over 0.35 on the validation set.\n",
    "\n",
    "from cs231n.classifiers import Softmax\n",
    "from uuid import uuid4\n",
    "\n",
    "run_id = uuid4()\n",
    "all_results = { run_id: {}}\n",
    "best_val = -1\n",
    "best_softmax = None\n",
    "\n",
    "################################################################################\n",
    "# TODO:                                                                        #\n",
    "# Use the validation set to set the learning rate and regularization strength. #\n",
    "# This should be identical to the validation that you did for the SVM; save    #\n",
    "# the best trained softmax classifer in best_softmax.                          #\n",
    "################################################################################\n",
    "\n",
    "# Provided as a reference. You may or may not want to change these hyperparameters\n",
    "\n",
    "total = 20\n",
    "learning_rates = [10**-7*(1 + np.random.rand()) for x in range(total)] # randomly search between 1e-7 and 1e-8\n",
    "regularization_strengths = [6000*(1 + np.random.rand()) for x in range(total)] # Randomly sample between 6000 and 12,000 in log scale\n",
    "accuracies = []\n",
    "\n",
    "# *****START OF YOUR CODE (DO NOT DELETE/MODIFY THIS LINE)*****\n",
    "\n",
    "def accuracy(model, X, y):\n",
    "  y_pred = model.predict(X)\n",
    "  return np.mean(y_pred == y)  \n",
    "\n",
    "i = 0\n",
    "\n",
    "for lr, reg in zip(learning_rates, regularization_strengths):\n",
    "  i += 1 \n",
    "  model = Softmax()\n",
    "  model.train(X_train, y_train, learning_rate=lr, reg=reg, num_iters=5000, verbose=False)\n",
    "      \n",
    "  train_acc = accuracy(model, X_train, y_train)\n",
    "  val_acc = accuracy(model, X_val, y_val)\n",
    "    \n",
    "  accuracies.append(val_acc)\n",
    "    \n",
    "  print(f\"{i}/{total} [lr: {lr} reg: {reg:.3f} train: {train_acc:.3f} val: {val_acc:.3f}]\")\n",
    "  all_results[run_id][(lr, reg)] = (train_acc, val_acc)\n",
    "    \n",
    "  if val_acc > best_val:\n",
    "    best_val = val_acc\n",
    "    best_softmax = model\n",
    "\n",
    "    \n",
    "# Print out results.\n",
    "for lr, reg in sorted(results):\n",
    "    train_accuracy, val_accuracy = results[(lr, reg)]\n",
    "    print('lr %e reg %e train accuracy: %f val accuracy: %f' % (\n",
    "                lr, reg, train_accuracy, val_accuracy))\n",
    "    \n",
    "print('best validation accuracy achieved during cross-validation: %f' % best_val)"
   ]
  },
  {
   "cell_type": "code",
   "execution_count": 147,
   "metadata": {
    "id": "test"
   },
   "outputs": [
    {
     "name": "stdout",
     "output_type": "stream",
     "text": [
      "softmax on raw pixels final test set accuracy: 0.379000\n"
     ]
    }
   ],
   "source": [
    "# evaluate on test set\n",
    "# Evaluate the best softmax on test set\n",
    "y_test_pred = best_softmax.predict(X_test)\n",
    "test_accuracy = np.mean(y_test == y_test_pred)\n",
    "print('softmax on raw pixels final test set accuracy: %f' % (test_accuracy, ))"
   ]
  },
  {
   "cell_type": "code",
   "execution_count": 164,
   "metadata": {},
   "outputs": [
    {
     "data": {
      "text/plain": [
       "<matplotlib.colorbar.Colorbar at 0x1259f6760>"
      ]
     },
     "execution_count": 164,
     "metadata": {},
     "output_type": "execute_result"
    },
    {
     "data": {
      "image/png": "[encoded data removed]",
      "text/plain": [
       "<Figure size 720x720 with 4 Axes>"
      ]
     },
     "metadata": {
      "needs_background": "light"
     },
     "output_type": "display_data"
    }
   ],
   "source": [
    "import math\n",
    "\n",
    "xs = [math.log(x) for x in learning_rates]\n",
    "ys = [math.log(x) for x in regularization_strengths]\n",
    "\n",
    "mark_size = 200\n",
    "\n",
    "colors_train = [all_results[run_id][(x, y)][0] for x, y in zip(learning_rates, regularization_strengths)]\n",
    "plt.subplot(2, 1, 1)\n",
    "plt.scatter(xs, ys, mark_size, c=colors_train, cmap=plt.cm.YlGnBu)\n",
    "plt.title('Training accuracy')\n",
    "plt.xlabel('Log learning rate')\n",
    "plt.ylabel('Log regularization strength')\n",
    "plt.colorbar()\n",
    "\n",
    "colors_val = [all_results[run_id][(x, y)][1] for x, y in zip(learning_rates, regularization_strengths)]\n",
    "plt.subplot(2, 1, 2)\n",
    "plt.title('Val accuracy')\n",
    "plt.xlabel('Log learning rate')\n",
    "plt.ylabel('Log regularization strength')\n",
    "plt.scatter(xs, ys, mark_size, c=colors_val, cmap=plt.cm.YlGnBu)\n",
    "plt.colorbar()\n",
    "\n"
   ]
  },
  {
   "cell_type": "markdown",
   "metadata": {
    "tags": [
     "pdf-inline"
    ]
   },
   "source": [
    "**Inline Question 2** - *True or False*\n",
    "\n",
    "Suppose the overall training loss is defined as the sum of the per-datapoint loss over all training examples. It is possible to add a new datapoint to a training set that would leave the SVM loss unchanged, but this is not the case with the Softmax classifier loss.\n",
    "\n",
    "$\\color{blue}{\\textit Your Answer:}$\n",
    "\n",
    "The per datapoint loss for SVM is defined as:\n",
    "\n",
    "$$L_i = \\sum_{j \\in C}max(s_j - s_{y_i} + \\Delta, 0)$$\n",
    "\n",
    "The intuition here is that the SVM is forcing a marging of at least $\\Delta$ in the 'gap' between classes. It is possible to add a datapoint to the training set that does not affect this margin as it's score for every incorrect class is very small, and therefore it's total contribution to the loss is 0.\n",
    "\n",
    "In contrast the per datapoint loss for Softmax is defined as:\n",
    "\n",
    "$$L_i = -\\log\\left(\\frac{e^{f_{y_i}}}{\\sum_{j \\in C} e^{f_j}}\\right) $$\n",
    "\n",
    "The argument of the log $p_i$ is in $(0, 1)$ as $e^x > 0\\: \\forall x\\in {\\rm I\\!R}$, thus $-\\log(p_i) \\in (0, \\infty)$. Therefore it is not possible to add a training datapoint without modifying the loss.\n",
    "\n"
   ]
  },
  {
   "cell_type": "code",
   "execution_count": 165,
   "metadata": {},
   "outputs": [
    {
     "data": {
      "image/png": "[encoded data removed]",
      "text/plain": [
       "<Figure size 720x720 with 10 Axes>"
      ]
     },
     "metadata": {
      "needs_background": "light"
     },
     "output_type": "display_data"
    }
   ],
   "source": [
    "# Visualize the learned weights for each class\n",
    "w = best_softmax.W[:-1,:] # strip out the bias\n",
    "w = w.reshape(32, 32, 3, 10)\n",
    "\n",
    "w_min, w_max = np.min(w), np.max(w)\n",
    "\n",
    "classes = ['plane', 'car', 'bird', 'cat', 'deer', 'dog', 'frog', 'horse', 'ship', 'truck']\n",
    "for i in range(10):\n",
    "    plt.subplot(2, 5, i + 1)\n",
    "\n",
    "    # Rescale the weights to be between 0 and 255\n",
    "    wimg = 255.0 * (w[:, :, :, i].squeeze() - w_min) / (w_max - w_min)\n",
    "    plt.imshow(wimg.astype('uint8'))\n",
    "    plt.axis('off')\n",
    "    plt.title(classes[i])"
   ]
  },
  {
   "cell_type": "code",
   "execution_count": null,
   "metadata": {},
   "outputs": [],
   "source": []
  },
  {
   "cell_type": "markdown",
   "metadata": {},
   "source": [
    "---\n",
    "# IMPORTANT\n",
    "\n",
    "This is the end of this question. Please do the following:\n",
    "\n",
    "1. Click `File -> Save` to make sure the latest checkpoint of this notebook is saved to your Drive.\n",
    "2. Execute the cell below to download the modified `.py` files back to your drive."
   ]
  },
  {
   "cell_type": "code",
   "execution_count": null,
   "metadata": {},
   "outputs": [],
   "source": [
    "import os\n",
    "\n",
    "FOLDER_TO_SAVE = os.path.join('drive/My Drive/', FOLDERNAME)\n",
    "FILES_TO_SAVE = ['cs231n/classifiers/softmax.py']\n",
    "\n",
    "for files in FILES_TO_SAVE:\n",
    "  with open(os.path.join(FOLDER_TO_SAVE, '/'.join(files.split('/')[1:])), 'w') as f:\n",
    "    f.write(''.join(open(files).readlines()))"
   ]
  }
 ],
 "metadata": {
  "kernelspec": {
   "display_name": "Python 3",
   "language": "python",
   "name": "python3"
  },
  "language_info": {
   "codemirror_mode": {
    "name": "ipython",
    "version": 3
   },
   "file_extension": ".py",
   "mimetype": "text/x-python",
   "name": "python",
   "nbconvert_exporter": "python",
   "pygments_lexer": "ipython3",
   "version": "3.8.2"
  }
 },
 "nbformat": 4,
 "nbformat_minor": 4
}
