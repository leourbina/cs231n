{
 "cells": [
  {
   "cell_type": "code",
   "execution_count": 1,
   "metadata": {},
   "outputs": [],
   "source": [
    "import numpy as np"
   ]
  },
  {
   "cell_type": "code",
   "execution_count": 9,
   "metadata": {},
   "outputs": [],
   "source": [
    "H = 5\n",
    "T = 50\n",
    "\n",
    "Whh = np.random.randn(H, H)\n",
    "\n",
    "hs = {}\n",
    "ss = {}\n",
    "hs[-1] = np.random.randn(H)\n",
    "for t in range(T):\n",
    "  ss[t] = np.dot(Whh, hs[t-1])\n",
    "  hs[t] = np.maximum(0, ss[t])\n",
    "  \n",
    "dhs = {}\n",
    "dss = {}\n",
    "dhs[T-1] = np.random.randn(H)\n",
    "\n",
    "for t in reversed(range(T)):\n",
    "  dss[t] = (hs[t] > 0) * dhs[t]\n",
    "  dhs[t-1]= np.dot(Whh.T, dss[t])"
   ]
  },
  {
   "cell_type": "code",
   "execution_count": 40,
   "metadata": {},
   "outputs": [],
   "source": [
    "def to_numpy(d):\n",
    "  N = len(d)\n",
    "  res = np.zeros((N + 1, 5))\n",
    "\n",
    "  for i in range(N-1):\n",
    "    res[i] = d[i]\n",
    "  \n",
    "  return res"
   ]
  },
  {
   "cell_type": "code",
   "execution_count": 41,
   "metadata": {},
   "outputs": [],
   "source": [
    "dhs_ = to_numpy(dhs)"
   ]
  },
  {
   "cell_type": "code",
   "execution_count": 45,
   "metadata": {},
   "outputs": [
    {
     "data": {
      "text/plain": [
       "array([-3.05407282e+10,  2.93171820e+10,  1.26207457e+10,  4.56395877e+10,\n",
       "        9.11818137e+09])"
      ]
     },
     "execution_count": 45,
     "metadata": {},
     "output_type": "execute_result"
    }
   ],
   "source": [
    "dhs_[0]"
   ]
  },
  {
   "cell_type": "code",
   "execution_count": null,
   "metadata": {},
   "outputs": [],
   "source": []
  }
 ],
 "metadata": {
  "kernelspec": {
   "display_name": "Python 3",
   "language": "python",
   "name": "python3"
  },
  "language_info": {
   "codemirror_mode": {
    "name": "ipython",
    "version": 3
   },
   "file_extension": ".py",
   "mimetype": "text/x-python",
   "name": "python",
   "nbconvert_exporter": "python",
   "pygments_lexer": "ipython3",
   "version": "3.7.4"
  }
 },
 "nbformat": 4,
 "nbformat_minor": 4
}
